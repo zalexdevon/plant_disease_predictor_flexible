{
 "cells": [
  {
   "cell_type": "code",
   "execution_count": null,
   "id": "52fa7a25",
   "metadata": {},
   "outputs": [],
   "source": [
    "import tensorflow as tf \n",
    "\n",
    "image_size = 224\n",
    "input_layer = tf.keras.Input((image_size, image_size, 3))\n",
    "x = tf.keras.layers.RandomFlip(\"horizontal\")(input_layer)\n",
    "x = tf.keras.layers.RandomRotation(0.1)(x)\n",
    "x = tf.keras.layers.RandomZoom(0.2)(x)\n",
    "\n",
    "model = tf.keras.Model(input = input_layer, output = x)\n",
    "\n",
    "train_ds = tf.data.Dataset.load(train_ds_path)\n",
    "\n",
    "train_ds_transformed = model(train_ds)"
   ]
  },
  {
   "cell_type": "code",
   "execution_count": null,
   "id": "19b8c173",
   "metadata": {},
   "outputs": [],
   "source": [
    "import tensorflow as tf \n",
    "\n",
    "image_size = 224\n",
    "input_layer = tf.keras.Input((image_size, image_size, 3))\n",
    "x = tf.keras.layers.RandomFlip(\"horizontal_and_vertical\")(input_layer)\n",
    "x = tf.keras.layers.RandomRotation(0.1)(x)\n",
    "x = tf.keras.layers.RandomZoom(0.2)(x)\n",
    "augment_model = tf.keras.Model(inputs=input_layer, outputs=x)\n",
    "\n",
    "# Load dataset\n",
    "train_ds = tf.data.Dataset.load(train_ds_path)\n",
    "\n",
    "# Apply augmentation model to each image in the dataset\n",
    "train_ds_transformed = train_ds.map(lambda x, y: (augment_model(x, training=True), y))\n"
   ]
  }
 ],
 "metadata": {
  "language_info": {
   "name": "python"
  }
 },
 "nbformat": 4,
 "nbformat_minor": 5
}
