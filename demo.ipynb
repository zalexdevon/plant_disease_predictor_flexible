{
 "cells": [
  {
   "cell_type": "code",
   "execution_count": null,
   "id": "52fa7a25",
   "metadata": {},
   "outputs": [],
   "source": [
    "history = model.fit(\n",
    "    train_ds,\n",
    "    epochs=.epochs,\n",
    "    verbose=1,\n",
    "    validation_data=val_ds,\n",
    "    callbacks=callbacks,\n",
    ")"
   ]
  }
 ],
 "metadata": {
  "language_info": {
   "name": "python"
  }
 },
 "nbformat": 4,
 "nbformat_minor": 5
}
